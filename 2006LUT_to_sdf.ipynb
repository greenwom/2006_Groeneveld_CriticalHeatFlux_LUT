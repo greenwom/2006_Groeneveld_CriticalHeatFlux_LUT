{
 "cells": [
  {
   "cell_type": "code",
   "execution_count": 1,
   "metadata": {},
   "outputs": [],
   "source": [
    "import sdf\n",
    "import numpy as np"
   ]
  },
  {
   "cell_type": "code",
   "execution_count": 2,
   "metadata": {},
   "outputs": [],
   "source": [
    "# Create the data arrays:\n",
    "t = np.linspace(0, 10, 51)\n",
    "v = np.sin(t)"
   ]
  },
  {
   "cell_type": "code",
   "execution_count": 3,
   "metadata": {},
   "outputs": [],
   "source": [
    "# Create the datasets:\n",
    "ds_t = sdf.Dataset('t', data=t, unit='s', is_scale=True, display_name='Time')\n",
    "ds_v = sdf.Dataset('v', data=v, unit='V', scales=[ds_t])"
   ]
  },
  {
   "cell_type": "code",
   "execution_count": 4,
   "metadata": {},
   "outputs": [],
   "source": [
    "# Create the root group and write the file:\n",
    "g = sdf.Group('/', comment='A sine voltage', datasets=[ds_t, ds_v])\n",
    "sdf.save('sine.sdf', g)"
   ]
  },
  {
   "cell_type": "code",
   "execution_count": null,
   "metadata": {},
   "outputs": [],
   "source": [
    "# Read the dataset from the SDF file asserting the correct unit of the dataset and scale:\n",
    "ds_v2 = sdf.load('sine.sdf', '/v', unit='V', scale_units=['s'])"
   ]
  },
  {
   "cell_type": "code",
   "execution_count": 6,
   "metadata": {},
   "outputs": [
    {
     "name": "stdout",
     "output_type": "stream",
     "text": [
      "V\n",
      "(51,)\n"
     ]
    }
   ],
   "source": [
    "# Get the meta info and data array from the dataset:\n",
    "print(ds_v2.unit)\n",
    "print(ds_v2.data.shape)"
   ]
  },
  {
   "cell_type": "code",
   "execution_count": 7,
   "metadata": {},
   "outputs": [
    {
     "name": "stdout",
     "output_type": "stream",
     "text": [
      "s\n"
     ]
    }
   ],
   "source": [
    "# Get the scale for the first dimension:\n",
    "ds_t2 = ds_v2.scales[0]\n",
    "print(ds_t2.unit)"
   ]
  },
  {
   "cell_type": "code",
   "execution_count": 8,
   "metadata": {},
   "outputs": [],
   "source": [
    "# Load 2006 LUT for interpolation based on iteration\n",
    "\n",
    "# Pressure range [MPa] from 2006 LUT, convert to [Pa]\n",
    "P = np.array((0.10,0.30,0.50,1.0,2.0,3.0,5.0,7.0,10.0,12.0,14.0,16.0,18.0,20.0,21.0))*1e6\n",
    "\n",
    "# Mass Flux range [kg/m^2-s] from 2006 LUT\n",
    "G = np.array((0,50,100,300,500,750,1000,1500,2000,2500,3000,3500,4000,4500,5000,5500,6000,6500,7000,7500,8000))\n",
    "\n",
    "# Quality range from 2006 LUT\n",
    "x = np.array((-0.50,-0.40,-0.30,-0.20,-0.15,-0.10,-0.05,0.00,0.05,0.10,0.15,0.20,0.25,0.30,0.35,0.40,0.45,0.50,0.60,0.70,0.80,0.90,1.00))"
   ]
  },
  {
   "cell_type": "code",
   "execution_count": 9,
   "metadata": {},
   "outputs": [],
   "source": [
    "# Critical heat flux [kW/m^2] from 2006 LUT, convert to [W/m^2]\n",
    "q_raw=np.loadtxt('2006LUTdata.txt')*1e3"
   ]
  },
  {
   "cell_type": "code",
   "execution_count": 11,
   "metadata": {},
   "outputs": [],
   "source": [
    "# Convert the imported array into a (MxNxQ) where:\n",
    "#   M is number of mass flux divisions\n",
    "#   N is number of quality divisions\n",
    "#   Q is number of pressure divisions\n",
    "lenG = len(G)\n",
    "lenx = len(x)\n",
    "lenP = len(P)\n",
    "q = np.zeros((lenG,lenx,lenP))\n",
    "for i in xrange(lenG):\n",
    "    for j in xrange(lenx):\n",
    "        for k in xrange(lenP):\n",
    "            q[i,j,k] = q_raw[i + k*lenG,j]    "
   ]
  },
  {
   "cell_type": "code",
   "execution_count": 14,
   "metadata": {},
   "outputs": [],
   "source": [
    "# Create the datasets:\n",
    "ds_G = sdf.Dataset('G', data=G, unit='kg/(m2.s)', is_scale=True, display_name='Mass Flux')\n",
    "ds_x = sdf.Dataset('x', data=x, unit='1', is_scale=True, display_name='Quality')\n",
    "ds_P = sdf.Dataset('P', data=P, unit='Pa', is_scale=True, display_name='Pressure')\n",
    "ds_q = sdf.Dataset('q', data=q, unit='W/m2', scales=[ds_G,ds_x,ds_P])"
   ]
  },
  {
   "cell_type": "code",
   "execution_count": 15,
   "metadata": {},
   "outputs": [],
   "source": [
    "# Create the root group and write the file:\n",
    "g2 = sdf.Group('/', comment='2006 CHF LUT', datasets=[ds_G,ds_x,ds_P,ds_q])\n",
    "sdf.save('2006LUT.sdf', g2)"
   ]
  },
  {
   "cell_type": "code",
   "execution_count": null,
   "metadata": {},
   "outputs": [],
   "source": []
  }
 ],
 "metadata": {
  "kernelspec": {
   "display_name": "Python 2",
   "language": "python",
   "name": "python2"
  },
  "language_info": {
   "codemirror_mode": {
    "name": "ipython",
    "version": 2
   },
   "file_extension": ".py",
   "mimetype": "text/x-python",
   "name": "python",
   "nbconvert_exporter": "python",
   "pygments_lexer": "ipython2",
   "version": "2.7.14"
  }
 },
 "nbformat": 4,
 "nbformat_minor": 2
}
